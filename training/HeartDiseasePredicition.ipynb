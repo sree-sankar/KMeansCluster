{
  "nbformat": 4,
  "nbformat_minor": 0,
  "metadata": {
    "colab": {
      "provenance": []
    },
    "kernelspec": {
      "name": "python3",
      "display_name": "Python 3"
    },
    "language_info": {
      "name": "python"
    }
  },
  "cells": [
    {
      "cell_type": "code",
      "execution_count": 45,
      "metadata": {
        "id": "tCwtfKOevKat"
      },
      "outputs": [],
      "source": [
        "#Import libraries\n",
        "import numpy as np\n",
        "import pandas as pd\n",
        "from sklearn.tree import DecisionTreeClassifier      # Import Decision Tree Classifier\n",
        "from sklearn.cluster import KMeans                   # Import K-Means Clustering\n",
        "from sklearn.model_selection import train_test_split # Import train_test_split function\n",
        "from sklearn import metrics                          # Import scikit-learn metrics module for accuracy calculation"
      ]
    },
    {
      "cell_type": "code",
      "source": [
        "# Function to Read CSV Funtion\n",
        "def readCsv(fileName,colList):\n",
        "  dataSet = pd.read_csv(fileName, header=None, names=colList)\n",
        "  # Remove the first row the CSV contains label\n",
        "  dataSet = dataSet.drop(dataSet.index[0])\n",
        "  # print(dataSet.head())\n",
        "  return dataSet"
      ],
      "metadata": {
        "id": "zGNSBFOWyAc4"
      },
      "execution_count": 46,
      "outputs": []
    },
    {
      "cell_type": "code",
      "source": [
        "def cluter_infer(kmeans,testData,centroids,centroids_quantized,featureList):\n",
        "\n",
        "  testData_df = pd.DataFrame([testData], columns=featureList)\n",
        "\n",
        "  # Calculate the Euclidean distance between data and each of the centroids\n",
        "  distances = np.linalg.norm(centroids - testData_df.values, axis=1)\n",
        "  print(\"Euclidian Distance non-quantized : \",distances)\n",
        "\n",
        "  # Calculate the Euclidean distance between data and each of the quantized centroids\n",
        "  distances_quantized = np.linalg.norm(centroids_quantized - testData_df.values, axis=1)\n",
        "  print(\"Euclidian Distance quantized     : \",distances_quantized)\n",
        "\n",
        "  # Determine the closest centroid based on minimum distance\n",
        "  closest_centroid           = np.argmin(distances)\n",
        "  closest_centroid_quantized = np.argmin(distances_quantized)\n",
        "\n",
        "  # Prediciton using predict function\n",
        "  predict = kmeans.predict(testData_df)\n",
        "\n",
        "  print(\"Cluster Predicition              : \",predict,closest_centroid,closest_centroid_quantized)"
      ],
      "metadata": {
        "id": "OBi8TMOlR7h7"
      },
      "execution_count": 82,
      "outputs": []
    },
    {
      "cell_type": "code",
      "source": [
        "# Function for K-Means Clustering\n",
        "def kMeansClusteringModel(dataSet,featureList):\n",
        "  # Seting Target Variable\n",
        "  X = dataSet[featureList]\n",
        "  # Clustering\n",
        "  kmeans = KMeans(n_clusters=2, random_state=0)\n",
        "  kmeans.fit(X)\n",
        "  # Prediction\n",
        "  predict = kmeans.predict(X)\n",
        "  # Cluster Distinction Score\n",
        "  silhouette_score = metrics.silhouette_score(X, predict)\n",
        "\n",
        "  # Get the centroids of the clusters\n",
        "  centroids = kmeans.cluster_centers_\n",
        "  print(\"\\nCentroids non-quantized\")\n",
        "  print(centroids)\n",
        "\n",
        "  # Quantizing to integer\n",
        "  centroids_quantized = np.round(centroids).astype(int)\n",
        "  print(\"\\nCentroids quantized\")\n",
        "  print(centroids_quantized)\n",
        "\n",
        "  # Testing for both clusters\n",
        "  testData0    = [56, 1, 1, 134, 290, 0, 1, 122, 1, 0, 0, 0, 2]\n",
        "  testData1    = [58, 1, 2, 140, 211, 1, 0, 165, 0, 0, 2, 0, 2]\n",
        "\n",
        "  print(\"\\nCluster Infering for testData0\")\n",
        "  cluter_infer(kmeans,testData0,centroids,centroids_quantized,featureList)\n",
        "\n",
        "  print(\"\\nCluster Infering for testData1\")\n",
        "  cluter_infer(kmeans,testData1,centroids,centroids_quantized,featureList)\n",
        "\n",
        "  return silhouette_score"
      ],
      "metadata": {
        "id": "mXcz67RpFppL"
      },
      "execution_count": 84,
      "outputs": []
    },
    {
      "cell_type": "code",
      "source": [
        "fileName = \"./heart.csv\"\n",
        "colList  = [\"age\", \"sex\", \"cp\", \"trestbps\", \"chol\" ,\"fbs\", \"restecg\",\n",
        "            \"thalach\", \"exang\", \"oldpeak\", \"slope\", \"ca\",\"thal\",\"target\"]\n",
        "\n",
        "featureList = [item for item in colList if item not in [\"target\"]]\n",
        "\n",
        "# Reading CSV\n",
        "dataSet = readCsv(fileName,colList)\n",
        "\n",
        "# Target Label\n",
        "target = dataSet.target\n",
        "\n",
        "# K-Mean Clustering\n",
        "kmSilhouetteScore = kMeansClusteringModel(dataSet,featureList)\n",
        "# print(\"\\nK-Means Model Score          :\", kmSilhouetteScore)"
      ],
      "metadata": {
        "colab": {
          "base_uri": "https://localhost:8080/"
        },
        "id": "KGleXbGBx4TB",
        "outputId": "4157f3fb-4977-4264-91fc-f408d4590dc0"
      },
      "execution_count": 85,
      "outputs": [
        {
          "output_type": "stream",
          "name": "stdout",
          "text": [
            "\n",
            "Centroids non-quantized\n",
            "[[5.30223285e+01 7.48006380e-01 1.02073365e+00 1.29711324e+02\n",
            "  2.14159490e+02 1.46730463e-01 6.02870813e-01 1.51523126e+02\n",
            "  2.95055821e-01 1.00430622e+00 1.39872408e+00 6.77830941e-01\n",
            "  2.26634769e+00]\n",
            " [5.66582915e+01 6.13065327e-01 8.19095477e-01 1.34605528e+02\n",
            "  2.96160804e+02 1.53266332e-01 4.14572864e-01 1.45319095e+02\n",
            "  4.02010050e-01 1.17738693e+00 1.36432161e+00 8.74371859e-01\n",
            "  2.41457286e+00]]\n",
            "\n",
            "Centroids quantized\n",
            "[[ 53   1   1 130 214   0   1 152   0   1   1   1   2]\n",
            " [ 57   1   1 135 296   0   0 145   0   1   1   1   2]]\n",
            "\n",
            "Cluster Infering for testData0\n",
            "Euclidian Distance non-quantized :  [81.57752648 24.24099821]\n",
            "Euclidian Distance quantized     :  [81.88406438 23.91652149]\n",
            "Cluster Predicition              :  [1] 1 1\n",
            "\n",
            "Cluster Infering for testData1\n",
            "Euclidian Distance non-quantized :  [18.06499882 87.61234203]\n",
            "Euclidian Distance quantized     :  [17.57839583 87.49857142]\n",
            "Cluster Predicition              :  [0] 0 0\n"
          ]
        }
      ]
    },
    {
      "cell_type": "markdown",
      "source": [
        "# New Section"
      ],
      "metadata": {
        "id": "BDUTKB7VA9kf"
      }
    }
  ]
}